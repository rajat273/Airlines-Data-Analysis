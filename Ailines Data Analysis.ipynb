{
 "cells": [
  {
   "cell_type": "markdown",
   "id": "1f5ca633",
   "metadata": {},
   "source": [
    "\n",
    "\n",
    "# Objective\n",
    "The goal of this data analysis project using sql would be to identify opportunities to increase the occupancy rate on low-performing flights, which can ultimately lead to increased profitability for the airline.\n"
   ]
  },
  {
   "cell_type": "markdown",
   "id": "8248e2a1",
   "metadata": {},
   "source": [
    "# Importing Libraries"
   ]
  },
  {
   "cell_type": "code",
   "execution_count": 1,
   "id": "64f12897",
   "metadata": {},
   "outputs": [],
   "source": [
    "import sqlite3\n",
    "import pandas as pd\n",
    "import matplotlib.pyplot as plt\n",
    "import seaborn as sns"
   ]
  },
  {
   "cell_type": "markdown",
   "id": "2b9947a9",
   "metadata": {},
   "source": [
    "# Database Connection"
   ]
  },
  {
   "cell_type": "code",
   "execution_count": 2,
   "id": "4767c171",
   "metadata": {},
   "outputs": [],
   "source": [
    "conn = sqlite3.connect(r\"C:\\Users\\RaJat sharma\\Downloads\\Airlines Data Analysis Project Resources\\travel.sqlite\")\n",
    "cursor = conn.cursor()"
   ]
  },
  {
   "cell_type": "code",
   "execution_count": 3,
   "id": "e1bb4a2e",
   "metadata": {},
   "outputs": [
    {
     "name": "stdout",
     "output_type": "stream",
     "text": [
      "List of Tables\n"
     ]
    },
    {
     "data": {
      "text/plain": [
       "['aircrafts_data',\n",
       " 'airports_data',\n",
       " 'boarding_passes',\n",
       " 'bookings',\n",
       " 'flights',\n",
       " 'seats',\n",
       " 'ticket_flights',\n",
       " 'tickets']"
      ]
     },
     "execution_count": 3,
     "metadata": {},
     "output_type": "execute_result"
    }
   ],
   "source": [
    "print('List of Tables')\n",
    "cursor.execute(\"SELECT name FROM sqlite_master WHERE type='table';\")\n",
    "table_list = [table[0] for table in cursor.fetchall()]\n",
    "table_list"
   ]
  },
  {
   "cell_type": "markdown",
   "id": "13106217",
   "metadata": {},
   "source": [
    "# Data Exploration"
   ]
  },
  {
   "cell_type": "code",
   "execution_count": 4,
   "id": "13fec446",
   "metadata": {},
   "outputs": [
    {
     "data": {
      "text/html": [
       "<div>\n",
       "<style scoped>\n",
       "    .dataframe tbody tr th:only-of-type {\n",
       "        vertical-align: middle;\n",
       "    }\n",
       "\n",
       "    .dataframe tbody tr th {\n",
       "        vertical-align: top;\n",
       "    }\n",
       "\n",
       "    .dataframe thead th {\n",
       "        text-align: right;\n",
       "    }\n",
       "</style>\n",
       "<table border=\"1\" class=\"dataframe\">\n",
       "  <thead>\n",
       "    <tr style=\"text-align: right;\">\n",
       "      <th></th>\n",
       "      <th>aircraft_code</th>\n",
       "      <th>model</th>\n",
       "      <th>range</th>\n",
       "    </tr>\n",
       "  </thead>\n",
       "  <tbody>\n",
       "    <tr>\n",
       "      <th>0</th>\n",
       "      <td>773</td>\n",
       "      <td>{\"en\": \"Boeing 777-300\", \"ru\": \"Боинг 777-300\"}</td>\n",
       "      <td>11100</td>\n",
       "    </tr>\n",
       "    <tr>\n",
       "      <th>1</th>\n",
       "      <td>763</td>\n",
       "      <td>{\"en\": \"Boeing 767-300\", \"ru\": \"Боинг 767-300\"}</td>\n",
       "      <td>7900</td>\n",
       "    </tr>\n",
       "    <tr>\n",
       "      <th>2</th>\n",
       "      <td>SU9</td>\n",
       "      <td>{\"en\": \"Sukhoi Superjet-100\", \"ru\": \"Сухой Суп...</td>\n",
       "      <td>3000</td>\n",
       "    </tr>\n",
       "    <tr>\n",
       "      <th>3</th>\n",
       "      <td>320</td>\n",
       "      <td>{\"en\": \"Airbus A320-200\", \"ru\": \"Аэробус A320-...</td>\n",
       "      <td>5700</td>\n",
       "    </tr>\n",
       "    <tr>\n",
       "      <th>4</th>\n",
       "      <td>321</td>\n",
       "      <td>{\"en\": \"Airbus A321-200\", \"ru\": \"Аэробус A321-...</td>\n",
       "      <td>5600</td>\n",
       "    </tr>\n",
       "  </tbody>\n",
       "</table>\n",
       "</div>"
      ],
      "text/plain": [
       "  aircraft_code                                              model  range\n",
       "0           773    {\"en\": \"Boeing 777-300\", \"ru\": \"Боинг 777-300\"}  11100\n",
       "1           763    {\"en\": \"Boeing 767-300\", \"ru\": \"Боинг 767-300\"}   7900\n",
       "2           SU9  {\"en\": \"Sukhoi Superjet-100\", \"ru\": \"Сухой Суп...   3000\n",
       "3           320  {\"en\": \"Airbus A320-200\", \"ru\": \"Аэробус A320-...   5700\n",
       "4           321  {\"en\": \"Airbus A321-200\", \"ru\": \"Аэробус A321-...   5600"
      ]
     },
     "execution_count": 4,
     "metadata": {},
     "output_type": "execute_result"
    }
   ],
   "source": [
    "aircrafts_data = pd.read_sql_query(\"SELECT * FROM aircrafts_data\", conn)\n",
    "aircrafts_data.head()"
   ]
  },
  {
   "cell_type": "code",
   "execution_count": 5,
   "id": "d2bd60a3",
   "metadata": {},
   "outputs": [
    {
     "name": "stdout",
     "output_type": "stream",
     "text": [
      "<class 'pandas.core.frame.DataFrame'>\n",
      "RangeIndex: 9 entries, 0 to 8\n",
      "Data columns (total 3 columns):\n",
      " #   Column         Non-Null Count  Dtype \n",
      "---  ------         --------------  ----- \n",
      " 0   aircraft_code  9 non-null      object\n",
      " 1   model          9 non-null      object\n",
      " 2   range          9 non-null      int64 \n",
      "dtypes: int64(1), object(2)\n",
      "memory usage: 348.0+ bytes\n"
     ]
    }
   ],
   "source": [
    "aircrafts_data.info()"
   ]
  },
  {
   "cell_type": "code",
   "execution_count": 6,
   "id": "ec84eede",
   "metadata": {},
   "outputs": [
    {
     "data": {
      "text/html": [
       "<div>\n",
       "<style scoped>\n",
       "    .dataframe tbody tr th:only-of-type {\n",
       "        vertical-align: middle;\n",
       "    }\n",
       "\n",
       "    .dataframe tbody tr th {\n",
       "        vertical-align: top;\n",
       "    }\n",
       "\n",
       "    .dataframe thead th {\n",
       "        text-align: right;\n",
       "    }\n",
       "</style>\n",
       "<table border=\"1\" class=\"dataframe\">\n",
       "  <thead>\n",
       "    <tr style=\"text-align: right;\">\n",
       "      <th></th>\n",
       "      <th>airport_code</th>\n",
       "      <th>airport_name</th>\n",
       "      <th>city</th>\n",
       "      <th>coordinates</th>\n",
       "      <th>timezone</th>\n",
       "    </tr>\n",
       "  </thead>\n",
       "  <tbody>\n",
       "    <tr>\n",
       "      <th>0</th>\n",
       "      <td>YKS</td>\n",
       "      <td>{\"en\": \"Yakutsk Airport\", \"ru\": \"Якутск\"}</td>\n",
       "      <td>{\"en\": \"Yakutsk\", \"ru\": \"Якутск\"}</td>\n",
       "      <td>(129.77099609375,62.0932998657226562)</td>\n",
       "      <td>Asia/Yakutsk</td>\n",
       "    </tr>\n",
       "    <tr>\n",
       "      <th>1</th>\n",
       "      <td>MJZ</td>\n",
       "      <td>{\"en\": \"Mirny Airport\", \"ru\": \"Мирный\"}</td>\n",
       "      <td>{\"en\": \"Mirnyj\", \"ru\": \"Мирный\"}</td>\n",
       "      <td>(114.03900146484375,62.534698486328125)</td>\n",
       "      <td>Asia/Yakutsk</td>\n",
       "    </tr>\n",
       "    <tr>\n",
       "      <th>2</th>\n",
       "      <td>KHV</td>\n",
       "      <td>{\"en\": \"Khabarovsk-Novy Airport\", \"ru\": \"Хабар...</td>\n",
       "      <td>{\"en\": \"Khabarovsk\", \"ru\": \"Хабаровск\"}</td>\n",
       "      <td>(135.18800354004,48.5279998779300001)</td>\n",
       "      <td>Asia/Vladivostok</td>\n",
       "    </tr>\n",
       "    <tr>\n",
       "      <th>3</th>\n",
       "      <td>PKC</td>\n",
       "      <td>{\"en\": \"Yelizovo Airport\", \"ru\": \"Елизово\"}</td>\n",
       "      <td>{\"en\": \"Petropavlovsk\", \"ru\": \"Петропавловск-К...</td>\n",
       "      <td>(158.453994750976562,53.1679000854492188)</td>\n",
       "      <td>Asia/Kamchatka</td>\n",
       "    </tr>\n",
       "    <tr>\n",
       "      <th>4</th>\n",
       "      <td>UUS</td>\n",
       "      <td>{\"en\": \"Yuzhno-Sakhalinsk Airport\", \"ru\": \"Хом...</td>\n",
       "      <td>{\"en\": \"Yuzhno-Sakhalinsk\", \"ru\": \"Южно-Сахали...</td>\n",
       "      <td>(142.718002319335938,46.8886985778808594)</td>\n",
       "      <td>Asia/Sakhalin</td>\n",
       "    </tr>\n",
       "  </tbody>\n",
       "</table>\n",
       "</div>"
      ],
      "text/plain": [
       "  airport_code                                       airport_name  \\\n",
       "0          YKS          {\"en\": \"Yakutsk Airport\", \"ru\": \"Якутск\"}   \n",
       "1          MJZ            {\"en\": \"Mirny Airport\", \"ru\": \"Мирный\"}   \n",
       "2          KHV  {\"en\": \"Khabarovsk-Novy Airport\", \"ru\": \"Хабар...   \n",
       "3          PKC        {\"en\": \"Yelizovo Airport\", \"ru\": \"Елизово\"}   \n",
       "4          UUS  {\"en\": \"Yuzhno-Sakhalinsk Airport\", \"ru\": \"Хом...   \n",
       "\n",
       "                                                city  \\\n",
       "0                  {\"en\": \"Yakutsk\", \"ru\": \"Якутск\"}   \n",
       "1                   {\"en\": \"Mirnyj\", \"ru\": \"Мирный\"}   \n",
       "2            {\"en\": \"Khabarovsk\", \"ru\": \"Хабаровск\"}   \n",
       "3  {\"en\": \"Petropavlovsk\", \"ru\": \"Петропавловск-К...   \n",
       "4  {\"en\": \"Yuzhno-Sakhalinsk\", \"ru\": \"Южно-Сахали...   \n",
       "\n",
       "                                 coordinates          timezone  \n",
       "0      (129.77099609375,62.0932998657226562)      Asia/Yakutsk  \n",
       "1    (114.03900146484375,62.534698486328125)      Asia/Yakutsk  \n",
       "2      (135.18800354004,48.5279998779300001)  Asia/Vladivostok  \n",
       "3  (158.453994750976562,53.1679000854492188)    Asia/Kamchatka  \n",
       "4  (142.718002319335938,46.8886985778808594)     Asia/Sakhalin  "
      ]
     },
     "execution_count": 6,
     "metadata": {},
     "output_type": "execute_result"
    }
   ],
   "source": [
    "airports_data = pd.read_sql_query(\"SELECT * FROM airports_data\", conn)\n",
    "airports_data.head()"
   ]
  },
  {
   "cell_type": "code",
   "execution_count": 7,
   "id": "20ae416d",
   "metadata": {},
   "outputs": [
    {
     "name": "stdout",
     "output_type": "stream",
     "text": [
      "<class 'pandas.core.frame.DataFrame'>\n",
      "RangeIndex: 104 entries, 0 to 103\n",
      "Data columns (total 5 columns):\n",
      " #   Column        Non-Null Count  Dtype \n",
      "---  ------        --------------  ----- \n",
      " 0   airport_code  104 non-null    object\n",
      " 1   airport_name  104 non-null    object\n",
      " 2   city          104 non-null    object\n",
      " 3   coordinates   104 non-null    object\n",
      " 4   timezone      104 non-null    object\n",
      "dtypes: object(5)\n",
      "memory usage: 4.2+ KB\n"
     ]
    }
   ],
   "source": [
    "airports_data.info()"
   ]
  },
  {
   "cell_type": "code",
   "execution_count": 8,
   "id": "705def65",
   "metadata": {},
   "outputs": [
    {
     "data": {
      "text/html": [
       "<div>\n",
       "<style scoped>\n",
       "    .dataframe tbody tr th:only-of-type {\n",
       "        vertical-align: middle;\n",
       "    }\n",
       "\n",
       "    .dataframe tbody tr th {\n",
       "        vertical-align: top;\n",
       "    }\n",
       "\n",
       "    .dataframe thead th {\n",
       "        text-align: right;\n",
       "    }\n",
       "</style>\n",
       "<table border=\"1\" class=\"dataframe\">\n",
       "  <thead>\n",
       "    <tr style=\"text-align: right;\">\n",
       "      <th></th>\n",
       "      <th>ticket_no</th>\n",
       "      <th>flight_id</th>\n",
       "      <th>boarding_no</th>\n",
       "      <th>seat_no</th>\n",
       "    </tr>\n",
       "  </thead>\n",
       "  <tbody>\n",
       "    <tr>\n",
       "      <th>0</th>\n",
       "      <td>0005435212351</td>\n",
       "      <td>30625</td>\n",
       "      <td>1</td>\n",
       "      <td>2D</td>\n",
       "    </tr>\n",
       "    <tr>\n",
       "      <th>1</th>\n",
       "      <td>0005435212386</td>\n",
       "      <td>30625</td>\n",
       "      <td>2</td>\n",
       "      <td>3G</td>\n",
       "    </tr>\n",
       "    <tr>\n",
       "      <th>2</th>\n",
       "      <td>0005435212381</td>\n",
       "      <td>30625</td>\n",
       "      <td>3</td>\n",
       "      <td>4H</td>\n",
       "    </tr>\n",
       "    <tr>\n",
       "      <th>3</th>\n",
       "      <td>0005432211370</td>\n",
       "      <td>30625</td>\n",
       "      <td>4</td>\n",
       "      <td>5D</td>\n",
       "    </tr>\n",
       "    <tr>\n",
       "      <th>4</th>\n",
       "      <td>0005435212357</td>\n",
       "      <td>30625</td>\n",
       "      <td>5</td>\n",
       "      <td>11A</td>\n",
       "    </tr>\n",
       "  </tbody>\n",
       "</table>\n",
       "</div>"
      ],
      "text/plain": [
       "       ticket_no  flight_id  boarding_no seat_no\n",
       "0  0005435212351      30625            1      2D\n",
       "1  0005435212386      30625            2      3G\n",
       "2  0005435212381      30625            3      4H\n",
       "3  0005432211370      30625            4      5D\n",
       "4  0005435212357      30625            5     11A"
      ]
     },
     "execution_count": 8,
     "metadata": {},
     "output_type": "execute_result"
    }
   ],
   "source": [
    "boarding_passes = pd.read_sql_query(\"SELECT * FROM boarding_passes\", conn)\n",
    "boarding_passes.head()"
   ]
  },
  {
   "cell_type": "code",
   "execution_count": 9,
   "id": "491813b6",
   "metadata": {},
   "outputs": [
    {
     "name": "stdout",
     "output_type": "stream",
     "text": [
      "<class 'pandas.core.frame.DataFrame'>\n",
      "RangeIndex: 579686 entries, 0 to 579685\n",
      "Data columns (total 4 columns):\n",
      " #   Column       Non-Null Count   Dtype \n",
      "---  ------       --------------   ----- \n",
      " 0   ticket_no    579686 non-null  object\n",
      " 1   flight_id    579686 non-null  int64 \n",
      " 2   boarding_no  579686 non-null  int64 \n",
      " 3   seat_no      579686 non-null  object\n",
      "dtypes: int64(2), object(2)\n",
      "memory usage: 17.7+ MB\n"
     ]
    }
   ],
   "source": [
    "boarding_passes.info()"
   ]
  },
  {
   "cell_type": "code",
   "execution_count": 10,
   "id": "59c3d6b4",
   "metadata": {},
   "outputs": [
    {
     "data": {
      "text/html": [
       "<div>\n",
       "<style scoped>\n",
       "    .dataframe tbody tr th:only-of-type {\n",
       "        vertical-align: middle;\n",
       "    }\n",
       "\n",
       "    .dataframe tbody tr th {\n",
       "        vertical-align: top;\n",
       "    }\n",
       "\n",
       "    .dataframe thead th {\n",
       "        text-align: right;\n",
       "    }\n",
       "</style>\n",
       "<table border=\"1\" class=\"dataframe\">\n",
       "  <thead>\n",
       "    <tr style=\"text-align: right;\">\n",
       "      <th></th>\n",
       "      <th>book_ref</th>\n",
       "      <th>book_date</th>\n",
       "      <th>total_amount</th>\n",
       "    </tr>\n",
       "  </thead>\n",
       "  <tbody>\n",
       "    <tr>\n",
       "      <th>0</th>\n",
       "      <td>00000F</td>\n",
       "      <td>2017-07-05 03:12:00+03</td>\n",
       "      <td>265700</td>\n",
       "    </tr>\n",
       "    <tr>\n",
       "      <th>1</th>\n",
       "      <td>000012</td>\n",
       "      <td>2017-07-14 09:02:00+03</td>\n",
       "      <td>37900</td>\n",
       "    </tr>\n",
       "    <tr>\n",
       "      <th>2</th>\n",
       "      <td>000068</td>\n",
       "      <td>2017-08-15 14:27:00+03</td>\n",
       "      <td>18100</td>\n",
       "    </tr>\n",
       "    <tr>\n",
       "      <th>3</th>\n",
       "      <td>000181</td>\n",
       "      <td>2017-08-10 13:28:00+03</td>\n",
       "      <td>131800</td>\n",
       "    </tr>\n",
       "    <tr>\n",
       "      <th>4</th>\n",
       "      <td>0002D8</td>\n",
       "      <td>2017-08-07 21:40:00+03</td>\n",
       "      <td>23600</td>\n",
       "    </tr>\n",
       "  </tbody>\n",
       "</table>\n",
       "</div>"
      ],
      "text/plain": [
       "  book_ref               book_date  total_amount\n",
       "0   00000F  2017-07-05 03:12:00+03        265700\n",
       "1   000012  2017-07-14 09:02:00+03         37900\n",
       "2   000068  2017-08-15 14:27:00+03         18100\n",
       "3   000181  2017-08-10 13:28:00+03        131800\n",
       "4   0002D8  2017-08-07 21:40:00+03         23600"
      ]
     },
     "execution_count": 10,
     "metadata": {},
     "output_type": "execute_result"
    }
   ],
   "source": [
    "bookings = pd.read_sql_query(\"SELECT * FROM bookings \", conn)\n",
    "bookings.head()"
   ]
  },
  {
   "cell_type": "code",
   "execution_count": 11,
   "id": "823787fa",
   "metadata": {},
   "outputs": [
    {
     "name": "stdout",
     "output_type": "stream",
     "text": [
      "<class 'pandas.core.frame.DataFrame'>\n",
      "RangeIndex: 262788 entries, 0 to 262787\n",
      "Data columns (total 3 columns):\n",
      " #   Column        Non-Null Count   Dtype \n",
      "---  ------        --------------   ----- \n",
      " 0   book_ref      262788 non-null  object\n",
      " 1   book_date     262788 non-null  object\n",
      " 2   total_amount  262788 non-null  int64 \n",
      "dtypes: int64(1), object(2)\n",
      "memory usage: 6.0+ MB\n"
     ]
    }
   ],
   "source": [
    "bookings.info()"
   ]
  },
  {
   "cell_type": "code",
   "execution_count": 12,
   "id": "e67bb0bf",
   "metadata": {},
   "outputs": [
    {
     "data": {
      "text/html": [
       "<div>\n",
       "<style scoped>\n",
       "    .dataframe tbody tr th:only-of-type {\n",
       "        vertical-align: middle;\n",
       "    }\n",
       "\n",
       "    .dataframe tbody tr th {\n",
       "        vertical-align: top;\n",
       "    }\n",
       "\n",
       "    .dataframe thead th {\n",
       "        text-align: right;\n",
       "    }\n",
       "</style>\n",
       "<table border=\"1\" class=\"dataframe\">\n",
       "  <thead>\n",
       "    <tr style=\"text-align: right;\">\n",
       "      <th></th>\n",
       "      <th>flight_id</th>\n",
       "      <th>flight_no</th>\n",
       "      <th>scheduled_departure</th>\n",
       "      <th>scheduled_arrival</th>\n",
       "      <th>departure_airport</th>\n",
       "      <th>arrival_airport</th>\n",
       "      <th>status</th>\n",
       "      <th>aircraft_code</th>\n",
       "      <th>actual_departure</th>\n",
       "      <th>actual_arrival</th>\n",
       "    </tr>\n",
       "  </thead>\n",
       "  <tbody>\n",
       "    <tr>\n",
       "      <th>0</th>\n",
       "      <td>1185</td>\n",
       "      <td>PG0134</td>\n",
       "      <td>2017-09-10 09:50:00+03</td>\n",
       "      <td>2017-09-10 14:55:00+03</td>\n",
       "      <td>DME</td>\n",
       "      <td>BTK</td>\n",
       "      <td>Scheduled</td>\n",
       "      <td>319</td>\n",
       "      <td>\\N</td>\n",
       "      <td>\\N</td>\n",
       "    </tr>\n",
       "    <tr>\n",
       "      <th>1</th>\n",
       "      <td>3979</td>\n",
       "      <td>PG0052</td>\n",
       "      <td>2017-08-25 14:50:00+03</td>\n",
       "      <td>2017-08-25 17:35:00+03</td>\n",
       "      <td>VKO</td>\n",
       "      <td>HMA</td>\n",
       "      <td>Scheduled</td>\n",
       "      <td>CR2</td>\n",
       "      <td>\\N</td>\n",
       "      <td>\\N</td>\n",
       "    </tr>\n",
       "    <tr>\n",
       "      <th>2</th>\n",
       "      <td>4739</td>\n",
       "      <td>PG0561</td>\n",
       "      <td>2017-09-05 12:30:00+03</td>\n",
       "      <td>2017-09-05 14:15:00+03</td>\n",
       "      <td>VKO</td>\n",
       "      <td>AER</td>\n",
       "      <td>Scheduled</td>\n",
       "      <td>763</td>\n",
       "      <td>\\N</td>\n",
       "      <td>\\N</td>\n",
       "    </tr>\n",
       "    <tr>\n",
       "      <th>3</th>\n",
       "      <td>5502</td>\n",
       "      <td>PG0529</td>\n",
       "      <td>2017-09-12 09:50:00+03</td>\n",
       "      <td>2017-09-12 11:20:00+03</td>\n",
       "      <td>SVO</td>\n",
       "      <td>UFA</td>\n",
       "      <td>Scheduled</td>\n",
       "      <td>763</td>\n",
       "      <td>\\N</td>\n",
       "      <td>\\N</td>\n",
       "    </tr>\n",
       "    <tr>\n",
       "      <th>4</th>\n",
       "      <td>6938</td>\n",
       "      <td>PG0461</td>\n",
       "      <td>2017-09-04 12:25:00+03</td>\n",
       "      <td>2017-09-04 13:20:00+03</td>\n",
       "      <td>SVO</td>\n",
       "      <td>ULV</td>\n",
       "      <td>Scheduled</td>\n",
       "      <td>SU9</td>\n",
       "      <td>\\N</td>\n",
       "      <td>\\N</td>\n",
       "    </tr>\n",
       "  </tbody>\n",
       "</table>\n",
       "</div>"
      ],
      "text/plain": [
       "   flight_id flight_no     scheduled_departure       scheduled_arrival  \\\n",
       "0       1185    PG0134  2017-09-10 09:50:00+03  2017-09-10 14:55:00+03   \n",
       "1       3979    PG0052  2017-08-25 14:50:00+03  2017-08-25 17:35:00+03   \n",
       "2       4739    PG0561  2017-09-05 12:30:00+03  2017-09-05 14:15:00+03   \n",
       "3       5502    PG0529  2017-09-12 09:50:00+03  2017-09-12 11:20:00+03   \n",
       "4       6938    PG0461  2017-09-04 12:25:00+03  2017-09-04 13:20:00+03   \n",
       "\n",
       "  departure_airport arrival_airport     status aircraft_code actual_departure  \\\n",
       "0               DME             BTK  Scheduled           319               \\N   \n",
       "1               VKO             HMA  Scheduled           CR2               \\N   \n",
       "2               VKO             AER  Scheduled           763               \\N   \n",
       "3               SVO             UFA  Scheduled           763               \\N   \n",
       "4               SVO             ULV  Scheduled           SU9               \\N   \n",
       "\n",
       "  actual_arrival  \n",
       "0             \\N  \n",
       "1             \\N  \n",
       "2             \\N  \n",
       "3             \\N  \n",
       "4             \\N  "
      ]
     },
     "execution_count": 12,
     "metadata": {},
     "output_type": "execute_result"
    }
   ],
   "source": [
    "flights = pd.read_sql_query(\"SELECT * FROM flights \", conn)\n",
    "flights.head()"
   ]
  },
  {
   "cell_type": "code",
   "execution_count": 13,
   "id": "a291506b",
   "metadata": {},
   "outputs": [
    {
     "name": "stdout",
     "output_type": "stream",
     "text": [
      "<class 'pandas.core.frame.DataFrame'>\n",
      "RangeIndex: 33121 entries, 0 to 33120\n",
      "Data columns (total 10 columns):\n",
      " #   Column               Non-Null Count  Dtype \n",
      "---  ------               --------------  ----- \n",
      " 0   flight_id            33121 non-null  int64 \n",
      " 1   flight_no            33121 non-null  object\n",
      " 2   scheduled_departure  33121 non-null  object\n",
      " 3   scheduled_arrival    33121 non-null  object\n",
      " 4   departure_airport    33121 non-null  object\n",
      " 5   arrival_airport      33121 non-null  object\n",
      " 6   status               33121 non-null  object\n",
      " 7   aircraft_code        33121 non-null  object\n",
      " 8   actual_departure     33121 non-null  object\n",
      " 9   actual_arrival       33121 non-null  object\n",
      "dtypes: int64(1), object(9)\n",
      "memory usage: 2.5+ MB\n"
     ]
    }
   ],
   "source": [
    "flights.info()"
   ]
  },
  {
   "cell_type": "code",
   "execution_count": 14,
   "id": "3b99c9dc",
   "metadata": {},
   "outputs": [
    {
     "data": {
      "text/html": [
       "<div>\n",
       "<style scoped>\n",
       "    .dataframe tbody tr th:only-of-type {\n",
       "        vertical-align: middle;\n",
       "    }\n",
       "\n",
       "    .dataframe tbody tr th {\n",
       "        vertical-align: top;\n",
       "    }\n",
       "\n",
       "    .dataframe thead th {\n",
       "        text-align: right;\n",
       "    }\n",
       "</style>\n",
       "<table border=\"1\" class=\"dataframe\">\n",
       "  <thead>\n",
       "    <tr style=\"text-align: right;\">\n",
       "      <th></th>\n",
       "      <th>aircraft_code</th>\n",
       "      <th>seat_no</th>\n",
       "      <th>fare_conditions</th>\n",
       "    </tr>\n",
       "  </thead>\n",
       "  <tbody>\n",
       "    <tr>\n",
       "      <th>0</th>\n",
       "      <td>319</td>\n",
       "      <td>2A</td>\n",
       "      <td>Business</td>\n",
       "    </tr>\n",
       "    <tr>\n",
       "      <th>1</th>\n",
       "      <td>319</td>\n",
       "      <td>2C</td>\n",
       "      <td>Business</td>\n",
       "    </tr>\n",
       "    <tr>\n",
       "      <th>2</th>\n",
       "      <td>319</td>\n",
       "      <td>2D</td>\n",
       "      <td>Business</td>\n",
       "    </tr>\n",
       "    <tr>\n",
       "      <th>3</th>\n",
       "      <td>319</td>\n",
       "      <td>2F</td>\n",
       "      <td>Business</td>\n",
       "    </tr>\n",
       "    <tr>\n",
       "      <th>4</th>\n",
       "      <td>319</td>\n",
       "      <td>3A</td>\n",
       "      <td>Business</td>\n",
       "    </tr>\n",
       "  </tbody>\n",
       "</table>\n",
       "</div>"
      ],
      "text/plain": [
       "  aircraft_code seat_no fare_conditions\n",
       "0           319      2A        Business\n",
       "1           319      2C        Business\n",
       "2           319      2D        Business\n",
       "3           319      2F        Business\n",
       "4           319      3A        Business"
      ]
     },
     "execution_count": 14,
     "metadata": {},
     "output_type": "execute_result"
    }
   ],
   "source": [
    "seats = pd.read_sql_query(\"SELECT * FROM seats  \", conn)\n",
    "seats.head()"
   ]
  },
  {
   "cell_type": "code",
   "execution_count": 15,
   "id": "76aa253e",
   "metadata": {},
   "outputs": [
    {
     "name": "stdout",
     "output_type": "stream",
     "text": [
      "<class 'pandas.core.frame.DataFrame'>\n",
      "RangeIndex: 1339 entries, 0 to 1338\n",
      "Data columns (total 3 columns):\n",
      " #   Column           Non-Null Count  Dtype \n",
      "---  ------           --------------  ----- \n",
      " 0   aircraft_code    1339 non-null   object\n",
      " 1   seat_no          1339 non-null   object\n",
      " 2   fare_conditions  1339 non-null   object\n",
      "dtypes: object(3)\n",
      "memory usage: 31.5+ KB\n"
     ]
    }
   ],
   "source": [
    "seats.info()"
   ]
  },
  {
   "cell_type": "code",
   "execution_count": 16,
   "id": "c898abf2",
   "metadata": {},
   "outputs": [
    {
     "data": {
      "text/html": [
       "<div>\n",
       "<style scoped>\n",
       "    .dataframe tbody tr th:only-of-type {\n",
       "        vertical-align: middle;\n",
       "    }\n",
       "\n",
       "    .dataframe tbody tr th {\n",
       "        vertical-align: top;\n",
       "    }\n",
       "\n",
       "    .dataframe thead th {\n",
       "        text-align: right;\n",
       "    }\n",
       "</style>\n",
       "<table border=\"1\" class=\"dataframe\">\n",
       "  <thead>\n",
       "    <tr style=\"text-align: right;\">\n",
       "      <th></th>\n",
       "      <th>ticket_no</th>\n",
       "      <th>flight_id</th>\n",
       "      <th>fare_conditions</th>\n",
       "      <th>amount</th>\n",
       "    </tr>\n",
       "  </thead>\n",
       "  <tbody>\n",
       "    <tr>\n",
       "      <th>0</th>\n",
       "      <td>0005432159776</td>\n",
       "      <td>30625</td>\n",
       "      <td>Business</td>\n",
       "      <td>42100</td>\n",
       "    </tr>\n",
       "    <tr>\n",
       "      <th>1</th>\n",
       "      <td>0005435212351</td>\n",
       "      <td>30625</td>\n",
       "      <td>Business</td>\n",
       "      <td>42100</td>\n",
       "    </tr>\n",
       "    <tr>\n",
       "      <th>2</th>\n",
       "      <td>0005435212386</td>\n",
       "      <td>30625</td>\n",
       "      <td>Business</td>\n",
       "      <td>42100</td>\n",
       "    </tr>\n",
       "    <tr>\n",
       "      <th>3</th>\n",
       "      <td>0005435212381</td>\n",
       "      <td>30625</td>\n",
       "      <td>Business</td>\n",
       "      <td>42100</td>\n",
       "    </tr>\n",
       "    <tr>\n",
       "      <th>4</th>\n",
       "      <td>0005432211370</td>\n",
       "      <td>30625</td>\n",
       "      <td>Business</td>\n",
       "      <td>42100</td>\n",
       "    </tr>\n",
       "  </tbody>\n",
       "</table>\n",
       "</div>"
      ],
      "text/plain": [
       "       ticket_no  flight_id fare_conditions  amount\n",
       "0  0005432159776      30625        Business   42100\n",
       "1  0005435212351      30625        Business   42100\n",
       "2  0005435212386      30625        Business   42100\n",
       "3  0005435212381      30625        Business   42100\n",
       "4  0005432211370      30625        Business   42100"
      ]
     },
     "execution_count": 16,
     "metadata": {},
     "output_type": "execute_result"
    }
   ],
   "source": [
    "ticket_flights = pd.read_sql_query(\"SELECT * FROM ticket_flights  \", conn)\n",
    "ticket_flights.head()"
   ]
  },
  {
   "cell_type": "code",
   "execution_count": 17,
   "id": "b46a8c5a",
   "metadata": {},
   "outputs": [
    {
     "name": "stdout",
     "output_type": "stream",
     "text": [
      "<class 'pandas.core.frame.DataFrame'>\n",
      "RangeIndex: 1045726 entries, 0 to 1045725\n",
      "Data columns (total 4 columns):\n",
      " #   Column           Non-Null Count    Dtype \n",
      "---  ------           --------------    ----- \n",
      " 0   ticket_no        1045726 non-null  object\n",
      " 1   flight_id        1045726 non-null  int64 \n",
      " 2   fare_conditions  1045726 non-null  object\n",
      " 3   amount           1045726 non-null  int64 \n",
      "dtypes: int64(2), object(2)\n",
      "memory usage: 31.9+ MB\n"
     ]
    }
   ],
   "source": [
    "ticket_flights.info()"
   ]
  },
  {
   "cell_type": "code",
   "execution_count": 18,
   "id": "a1d4f9c5",
   "metadata": {},
   "outputs": [
    {
     "data": {
      "text/html": [
       "<div>\n",
       "<style scoped>\n",
       "    .dataframe tbody tr th:only-of-type {\n",
       "        vertical-align: middle;\n",
       "    }\n",
       "\n",
       "    .dataframe tbody tr th {\n",
       "        vertical-align: top;\n",
       "    }\n",
       "\n",
       "    .dataframe thead th {\n",
       "        text-align: right;\n",
       "    }\n",
       "</style>\n",
       "<table border=\"1\" class=\"dataframe\">\n",
       "  <thead>\n",
       "    <tr style=\"text-align: right;\">\n",
       "      <th></th>\n",
       "      <th>ticket_no</th>\n",
       "      <th>book_ref</th>\n",
       "      <th>passenger_id</th>\n",
       "    </tr>\n",
       "  </thead>\n",
       "  <tbody>\n",
       "    <tr>\n",
       "      <th>0</th>\n",
       "      <td>0005432000987</td>\n",
       "      <td>06B046</td>\n",
       "      <td>8149 604011</td>\n",
       "    </tr>\n",
       "    <tr>\n",
       "      <th>1</th>\n",
       "      <td>0005432000988</td>\n",
       "      <td>06B046</td>\n",
       "      <td>8499 420203</td>\n",
       "    </tr>\n",
       "    <tr>\n",
       "      <th>2</th>\n",
       "      <td>0005432000989</td>\n",
       "      <td>E170C3</td>\n",
       "      <td>1011 752484</td>\n",
       "    </tr>\n",
       "    <tr>\n",
       "      <th>3</th>\n",
       "      <td>0005432000990</td>\n",
       "      <td>E170C3</td>\n",
       "      <td>4849 400049</td>\n",
       "    </tr>\n",
       "    <tr>\n",
       "      <th>4</th>\n",
       "      <td>0005432000991</td>\n",
       "      <td>F313DD</td>\n",
       "      <td>6615 976589</td>\n",
       "    </tr>\n",
       "  </tbody>\n",
       "</table>\n",
       "</div>"
      ],
      "text/plain": [
       "       ticket_no book_ref passenger_id\n",
       "0  0005432000987   06B046  8149 604011\n",
       "1  0005432000988   06B046  8499 420203\n",
       "2  0005432000989   E170C3  1011 752484\n",
       "3  0005432000990   E170C3  4849 400049\n",
       "4  0005432000991   F313DD  6615 976589"
      ]
     },
     "execution_count": 18,
     "metadata": {},
     "output_type": "execute_result"
    }
   ],
   "source": [
    "tickets = pd.read_sql_query(\"SELECT * FROM tickets  \", conn)\n",
    "tickets.head()"
   ]
  },
  {
   "cell_type": "code",
   "execution_count": 19,
   "id": "7c0399cc",
   "metadata": {},
   "outputs": [
    {
     "name": "stdout",
     "output_type": "stream",
     "text": [
      "<class 'pandas.core.frame.DataFrame'>\n",
      "RangeIndex: 366733 entries, 0 to 366732\n",
      "Data columns (total 3 columns):\n",
      " #   Column        Non-Null Count   Dtype \n",
      "---  ------        --------------   ----- \n",
      " 0   ticket_no     366733 non-null  object\n",
      " 1   book_ref      366733 non-null  object\n",
      " 2   passenger_id  366733 non-null  object\n",
      "dtypes: object(3)\n",
      "memory usage: 8.4+ MB\n"
     ]
    }
   ],
   "source": [
    "tickets.info()"
   ]
  },
  {
   "cell_type": "markdown",
   "id": "3f4c40ac",
   "metadata": {},
   "source": [
    "# Analysis"
   ]
  },
  {
   "cell_type": "code",
   "execution_count": 20,
   "id": "aa61a629",
   "metadata": {},
   "outputs": [
    {
     "data": {
      "text/html": [
       "<div>\n",
       "<style scoped>\n",
       "    .dataframe tbody tr th:only-of-type {\n",
       "        vertical-align: middle;\n",
       "    }\n",
       "\n",
       "    .dataframe tbody tr th {\n",
       "        vertical-align: top;\n",
       "    }\n",
       "\n",
       "    .dataframe thead th {\n",
       "        text-align: right;\n",
       "    }\n",
       "</style>\n",
       "<table border=\"1\" class=\"dataframe\">\n",
       "  <thead>\n",
       "    <tr style=\"text-align: right;\">\n",
       "      <th></th>\n",
       "      <th>aircraft_code</th>\n",
       "      <th>num_seats</th>\n",
       "    </tr>\n",
       "  </thead>\n",
       "  <tbody>\n",
       "    <tr>\n",
       "      <th>5</th>\n",
       "      <td>773</td>\n",
       "      <td>402</td>\n",
       "    </tr>\n",
       "    <tr>\n",
       "      <th>4</th>\n",
       "      <td>763</td>\n",
       "      <td>222</td>\n",
       "    </tr>\n",
       "    <tr>\n",
       "      <th>2</th>\n",
       "      <td>321</td>\n",
       "      <td>170</td>\n",
       "    </tr>\n",
       "    <tr>\n",
       "      <th>1</th>\n",
       "      <td>320</td>\n",
       "      <td>140</td>\n",
       "    </tr>\n",
       "    <tr>\n",
       "      <th>3</th>\n",
       "      <td>733</td>\n",
       "      <td>130</td>\n",
       "    </tr>\n",
       "    <tr>\n",
       "      <th>0</th>\n",
       "      <td>319</td>\n",
       "      <td>116</td>\n",
       "    </tr>\n",
       "  </tbody>\n",
       "</table>\n",
       "</div>"
      ],
      "text/plain": [
       "  aircraft_code  num_seats\n",
       "5           773        402\n",
       "4           763        222\n",
       "2           321        170\n",
       "1           320        140\n",
       "3           733        130\n",
       "0           319        116"
      ]
     },
     "execution_count": 20,
     "metadata": {},
     "output_type": "execute_result"
    }
   ],
   "source": [
    "seat_counts = seats.groupby('aircraft_code').size().reset_index(name='num_seats')\n",
    "filtered_seat_counts = seat_counts[seat_counts['num_seats'] > 100]\n",
    "ordered_seat_counts = filtered_seat_counts.sort_values(by='num_seats', ascending=False)\n",
    "ordered_seat_counts\n"
   ]
  },
  {
   "cell_type": "markdown",
   "id": "85161d65",
   "metadata": {},
   "source": [
    "**How the number of tickets booked and total amount earned changed with the time.**"
   ]
  },
  {
   "cell_type": "code",
   "execution_count": 21,
   "id": "0d7caba5",
   "metadata": {},
   "outputs": [
    {
     "data": {
      "image/png": "[encoded data removed]",
      "text/plain": [
       "<Figure size 1800x600 with 1 Axes>"
      ]
     },
     "metadata": {},
     "output_type": "display_data"
    }
   ],
   "source": [
    "tickets_joined = pd.merge(tickets, bookings, on='book_ref')\n",
    "tickets_joined['book_date'] = pd.to_datetime(tickets_joined['book_date'])\n",
    "tickets_joined['date'] = tickets_joined['book_date'].dt.date\n",
    "ticket_counts = tickets_joined.groupby('date').size().reset_index(name='num_tickets')\n",
    "plt.figure(figsize=(18, 6))\n",
    "plt.plot(ticket_counts['date'], ticket_counts['num_tickets'])\n",
    "plt.xlabel('Date', fontsize=20)\n",
    "plt.ylabel('Number of Tickets', fontsize=20)\n",
    "plt.grid(True)\n",
    "\n",
    "plt.show()\n"
   ]
  },
  {
   "cell_type": "code",
   "execution_count": 22,
   "id": "6b13497e",
   "metadata": {},
   "outputs": [
    {
     "data": {
      "image/png": "[encoded data removed]",
      "text/plain": [
       "<Figure size 1800x600 with 1 Axes>"
      ]
     },
     "metadata": {},
     "output_type": "display_data"
    }
   ],
   "source": [
    "bookings['book_date'] = pd.to_datetime(bookings['book_date'])\n",
    "bookings['date'] = bookings['book_date'].dt.date\n",
    "y = bookings.groupby('date')['total_amount'].sum().reset_index()\n",
    "plt.figure(figsize=(18,6))\n",
    "plt.plot(y['date'], y['total_amount'])\n",
    "plt.xlabel('Date', fontsize=20)\n",
    "plt.ylabel('Total Amount', fontsize=20)\n",
    "plt.grid(True)\n",
    "plt.show()\n"
   ]
  },
  {
   "cell_type": "markdown",
   "id": "53999de1",
   "metadata": {},
   "source": [
    "**Calculate the average charges for each aircraft with different fare conditions.**"
   ]
  },
  {
   "cell_type": "code",
   "execution_count": 23,
   "id": "f8694f83",
   "metadata": {},
   "outputs": [
    {
     "data": {
      "text/plain": [
       "<Axes: xlabel='aircraft_code', ylabel='avg_amount'>"
      ]
     },
     "execution_count": 23,
     "metadata": {},
     "output_type": "execute_result"
    },
    {
     "data": {
      "image/png": "[encoded data removed]",
      "text/plain": [
       "<Figure size 640x480 with 1 Axes>"
      ]
     },
     "metadata": {},
     "output_type": "display_data"
    }
   ],
   "source": [
    "\n",
    "merged_df = pd.merge(ticket_flights, flights, on='flight_id')\n",
    "\n",
    "\n",
    "grouped_df = merged_df.groupby(['aircraft_code', 'fare_conditions'])['amount'].mean().reset_index()\n",
    "grouped_df.rename(columns={'amount': 'avg_amount'}, inplace=True)\n",
    "\n",
    "\n",
    "sns.barplot(data=grouped_df, x='aircraft_code', y='avg_amount', hue='fare_conditions')\n"
   ]
  },
  {
   "cell_type": "markdown",
   "id": "7520039a",
   "metadata": {},
   "source": [
    "# Analyzing occupancy rate"
   ]
  },
  {
   "cell_type": "markdown",
   "id": "34336b0c",
   "metadata": {},
   "source": [
    "**For each aircraft, calculate the total revenue per year and the average revenue per ticket.**"
   ]
  },
  {
   "cell_type": "code",
   "execution_count": 24,
   "id": "50054fe0",
   "metadata": {},
   "outputs": [],
   "source": [
    "pd.set_option('display.float_format', str)"
   ]
  },
  {
   "cell_type": "code",
   "execution_count": 25,
   "id": "1296c241",
   "metadata": {},
   "outputs": [
    {
     "data": {
      "text/html": [
       "<div>\n",
       "<style scoped>\n",
       "    .dataframe tbody tr th:only-of-type {\n",
       "        vertical-align: middle;\n",
       "    }\n",
       "\n",
       "    .dataframe tbody tr th {\n",
       "        vertical-align: top;\n",
       "    }\n",
       "\n",
       "    .dataframe thead th {\n",
       "        text-align: right;\n",
       "    }\n",
       "</style>\n",
       "<table border=\"1\" class=\"dataframe\">\n",
       "  <thead>\n",
       "    <tr style=\"text-align: right;\">\n",
       "      <th></th>\n",
       "      <th>aircraft_code</th>\n",
       "      <th>total_revenue</th>\n",
       "      <th>ticket_count</th>\n",
       "      <th>avg_revenue_per_ticket</th>\n",
       "    </tr>\n",
       "  </thead>\n",
       "  <tbody>\n",
       "    <tr>\n",
       "      <th>0</th>\n",
       "      <td>319</td>\n",
       "      <td>2706163100</td>\n",
       "      <td>52853</td>\n",
       "      <td>51202.0</td>\n",
       "    </tr>\n",
       "    <tr>\n",
       "      <th>1</th>\n",
       "      <td>321</td>\n",
       "      <td>1638164100</td>\n",
       "      <td>107129</td>\n",
       "      <td>15292.0</td>\n",
       "    </tr>\n",
       "    <tr>\n",
       "      <th>2</th>\n",
       "      <td>733</td>\n",
       "      <td>1426552100</td>\n",
       "      <td>86102</td>\n",
       "      <td>16568.0</td>\n",
       "    </tr>\n",
       "    <tr>\n",
       "      <th>3</th>\n",
       "      <td>763</td>\n",
       "      <td>4371277100</td>\n",
       "      <td>124774</td>\n",
       "      <td>35034.0</td>\n",
       "    </tr>\n",
       "    <tr>\n",
       "      <th>4</th>\n",
       "      <td>773</td>\n",
       "      <td>3431205500</td>\n",
       "      <td>144376</td>\n",
       "      <td>23766.0</td>\n",
       "    </tr>\n",
       "    <tr>\n",
       "      <th>5</th>\n",
       "      <td>CN1</td>\n",
       "      <td>96373800</td>\n",
       "      <td>14672</td>\n",
       "      <td>6569.0</td>\n",
       "    </tr>\n",
       "    <tr>\n",
       "      <th>6</th>\n",
       "      <td>CR2</td>\n",
       "      <td>1982760500</td>\n",
       "      <td>150122</td>\n",
       "      <td>13208.0</td>\n",
       "    </tr>\n",
       "    <tr>\n",
       "      <th>7</th>\n",
       "      <td>SU9</td>\n",
       "      <td>5114484700</td>\n",
       "      <td>365698</td>\n",
       "      <td>13986.0</td>\n",
       "    </tr>\n",
       "  </tbody>\n",
       "</table>\n",
       "</div>"
      ],
      "text/plain": [
       "  aircraft_code  total_revenue  ticket_count  avg_revenue_per_ticket\n",
       "0           319     2706163100         52853                 51202.0\n",
       "1           321     1638164100        107129                 15292.0\n",
       "2           733     1426552100         86102                 16568.0\n",
       "3           763     4371277100        124774                 35034.0\n",
       "4           773     3431205500        144376                 23766.0\n",
       "5           CN1       96373800         14672                  6569.0\n",
       "6           CR2     1982760500        150122                 13208.0\n",
       "7           SU9     5114484700        365698                 13986.0"
      ]
     },
     "execution_count": 25,
     "metadata": {},
     "output_type": "execute_result"
    }
   ],
   "source": [
    "grouped_df = pd.merge(ticket_flights, flights, on='flight_id').groupby('aircraft_code').agg(\n",
    "    ticket_count=('amount', 'count'),\n",
    "    total_revenue=('amount', 'sum')\n",
    ").reset_index()\n",
    "\n",
    "grouped_df['avg_revenue_per_ticket'] = (grouped_df['total_revenue'] / grouped_df['ticket_count']).round()\n",
    "\n",
    "grouped_df[['aircraft_code', 'total_revenue', 'ticket_count', 'avg_revenue_per_ticket']]\n",
    "\n"
   ]
  },
  {
   "cell_type": "markdown",
   "id": "67de003a",
   "metadata": {},
   "source": [
    "**Calculate the average occupancy per aircraft.**"
   ]
  },
  {
   "cell_type": "code",
   "execution_count": 26,
   "id": "a664b344",
   "metadata": {},
   "outputs": [
    {
     "data": {
      "text/html": [
       "<div>\n",
       "<style scoped>\n",
       "    .dataframe tbody tr th:only-of-type {\n",
       "        vertical-align: middle;\n",
       "    }\n",
       "\n",
       "    .dataframe tbody tr th {\n",
       "        vertical-align: top;\n",
       "    }\n",
       "\n",
       "    .dataframe thead th {\n",
       "        text-align: right;\n",
       "    }\n",
       "</style>\n",
       "<table border=\"1\" class=\"dataframe\">\n",
       "  <thead>\n",
       "    <tr style=\"text-align: right;\">\n",
       "      <th></th>\n",
       "      <th>index</th>\n",
       "      <th>aircraft_code</th>\n",
       "      <th>booked_seats</th>\n",
       "      <th>num_seats</th>\n",
       "      <th>occupancy_rate</th>\n",
       "    </tr>\n",
       "  </thead>\n",
       "  <tbody>\n",
       "    <tr>\n",
       "      <th>0</th>\n",
       "      <td>0</td>\n",
       "      <td>319</td>\n",
       "      <td>53.58318098720292</td>\n",
       "      <td>116</td>\n",
       "      <td>0.46192397402761143</td>\n",
       "    </tr>\n",
       "    <tr>\n",
       "      <th>1</th>\n",
       "      <td>547</td>\n",
       "      <td>321</td>\n",
       "      <td>88.80923076923077</td>\n",
       "      <td>170</td>\n",
       "      <td>0.5224072398190045</td>\n",
       "    </tr>\n",
       "    <tr>\n",
       "      <th>2</th>\n",
       "      <td>1197</td>\n",
       "      <td>733</td>\n",
       "      <td>80.25546218487395</td>\n",
       "      <td>130</td>\n",
       "      <td>0.617349709114415</td>\n",
       "    </tr>\n",
       "    <tr>\n",
       "      <th>3</th>\n",
       "      <td>1792</td>\n",
       "      <td>763</td>\n",
       "      <td>113.93729372937294</td>\n",
       "      <td>222</td>\n",
       "      <td>0.5132310528350132</td>\n",
       "    </tr>\n",
       "    <tr>\n",
       "      <th>4</th>\n",
       "      <td>2398</td>\n",
       "      <td>773</td>\n",
       "      <td>264.9258064516129</td>\n",
       "      <td>402</td>\n",
       "      <td>0.659019419033863</td>\n",
       "    </tr>\n",
       "    <tr>\n",
       "      <th>5</th>\n",
       "      <td>2708</td>\n",
       "      <td>CN1</td>\n",
       "      <td>6.004431314623338</td>\n",
       "      <td>12</td>\n",
       "      <td>0.5003692762186115</td>\n",
       "    </tr>\n",
       "    <tr>\n",
       "      <th>6</th>\n",
       "      <td>4062</td>\n",
       "      <td>CR2</td>\n",
       "      <td>21.48284690220174</td>\n",
       "      <td>50</td>\n",
       "      <td>0.42965693804403476</td>\n",
       "    </tr>\n",
       "    <tr>\n",
       "      <th>7</th>\n",
       "      <td>7968</td>\n",
       "      <td>SU9</td>\n",
       "      <td>56.81211267605634</td>\n",
       "      <td>97</td>\n",
       "      <td>0.5856918832583128</td>\n",
       "    </tr>\n",
       "  </tbody>\n",
       "</table>\n",
       "</div>"
      ],
      "text/plain": [
       "   index aircraft_code       booked_seats  num_seats      occupancy_rate\n",
       "0      0           319  53.58318098720292        116 0.46192397402761143\n",
       "1    547           321  88.80923076923077        170  0.5224072398190045\n",
       "2   1197           733  80.25546218487395        130   0.617349709114415\n",
       "3   1792           763 113.93729372937294        222  0.5132310528350132\n",
       "4   2398           773  264.9258064516129        402   0.659019419033863\n",
       "5   2708           CN1  6.004431314623338         12  0.5003692762186115\n",
       "6   4062           CR2  21.48284690220174         50 0.42965693804403476\n",
       "7   7968           SU9  56.81211267605634         97  0.5856918832583128"
      ]
     },
     "execution_count": 26,
     "metadata": {},
     "output_type": "execute_result"
    }
   ],
   "source": [
    "a = boarding_passes.merge(flights, on='flight_id').groupby(['aircraft_code', 'flight_id']).size().reset_index(name='seats_count')\n",
    "b = seats.groupby('aircraft_code').size().reset_index(name='num_seats')\n",
    "merged_df = pd.merge(a, b, on='aircraft_code')\n",
    "merged_df['booked_seats'] = merged_df['seats_count'].groupby(merged_df['aircraft_code']).transform('mean')\n",
    "merged_df['occupancy_rate'] = merged_df['booked_seats'] / merged_df['num_seats']\n",
    "occupancy_rate = merged_df[['aircraft_code', 'booked_seats', 'num_seats', 'occupancy_rate']].drop_duplicates()\n",
    "occupancy_rate.reset_index()\n"
   ]
  },
  {
   "cell_type": "markdown",
   "id": "52507d85",
   "metadata": {},
   "source": [
    "**Calculate by how much the total annual turnover could increase by giving all aircraft a 10% higher occupancy rate.**\n"
   ]
  },
  {
   "cell_type": "code",
   "execution_count": 27,
   "id": "6b0fbbce",
   "metadata": {},
   "outputs": [
    {
     "data": {
      "text/html": [
       "<div>\n",
       "<style scoped>\n",
       "    .dataframe tbody tr th:only-of-type {\n",
       "        vertical-align: middle;\n",
       "    }\n",
       "\n",
       "    .dataframe tbody tr th {\n",
       "        vertical-align: top;\n",
       "    }\n",
       "\n",
       "    .dataframe thead th {\n",
       "        text-align: right;\n",
       "    }\n",
       "</style>\n",
       "<table border=\"1\" class=\"dataframe\">\n",
       "  <thead>\n",
       "    <tr style=\"text-align: right;\">\n",
       "      <th></th>\n",
       "      <th>index</th>\n",
       "      <th>aircraft_code</th>\n",
       "      <th>booked_seats</th>\n",
       "      <th>num_seats</th>\n",
       "      <th>occupancy_rate</th>\n",
       "      <th>Inc occupancy rate</th>\n",
       "    </tr>\n",
       "  </thead>\n",
       "  <tbody>\n",
       "    <tr>\n",
       "      <th>0</th>\n",
       "      <td>0</td>\n",
       "      <td>319</td>\n",
       "      <td>53.58318098720292</td>\n",
       "      <td>116</td>\n",
       "      <td>0.46192397402761143</td>\n",
       "      <td>0.5081163714303726</td>\n",
       "    </tr>\n",
       "    <tr>\n",
       "      <th>1</th>\n",
       "      <td>547</td>\n",
       "      <td>321</td>\n",
       "      <td>88.80923076923077</td>\n",
       "      <td>170</td>\n",
       "      <td>0.5224072398190045</td>\n",
       "      <td>0.574647963800905</td>\n",
       "    </tr>\n",
       "    <tr>\n",
       "      <th>2</th>\n",
       "      <td>1197</td>\n",
       "      <td>733</td>\n",
       "      <td>80.25546218487395</td>\n",
       "      <td>130</td>\n",
       "      <td>0.617349709114415</td>\n",
       "      <td>0.6790846800258565</td>\n",
       "    </tr>\n",
       "    <tr>\n",
       "      <th>3</th>\n",
       "      <td>1792</td>\n",
       "      <td>763</td>\n",
       "      <td>113.93729372937294</td>\n",
       "      <td>222</td>\n",
       "      <td>0.5132310528350132</td>\n",
       "      <td>0.5645541581185146</td>\n",
       "    </tr>\n",
       "    <tr>\n",
       "      <th>4</th>\n",
       "      <td>2398</td>\n",
       "      <td>773</td>\n",
       "      <td>264.9258064516129</td>\n",
       "      <td>402</td>\n",
       "      <td>0.659019419033863</td>\n",
       "      <td>0.7249213609372492</td>\n",
       "    </tr>\n",
       "    <tr>\n",
       "      <th>5</th>\n",
       "      <td>2708</td>\n",
       "      <td>CN1</td>\n",
       "      <td>6.004431314623338</td>\n",
       "      <td>12</td>\n",
       "      <td>0.5003692762186115</td>\n",
       "      <td>0.5504062038404727</td>\n",
       "    </tr>\n",
       "    <tr>\n",
       "      <th>6</th>\n",
       "      <td>4062</td>\n",
       "      <td>CR2</td>\n",
       "      <td>21.48284690220174</td>\n",
       "      <td>50</td>\n",
       "      <td>0.42965693804403476</td>\n",
       "      <td>0.4726226318484382</td>\n",
       "    </tr>\n",
       "    <tr>\n",
       "      <th>7</th>\n",
       "      <td>7968</td>\n",
       "      <td>SU9</td>\n",
       "      <td>56.81211267605634</td>\n",
       "      <td>97</td>\n",
       "      <td>0.5856918832583128</td>\n",
       "      <td>0.644261071584144</td>\n",
       "    </tr>\n",
       "  </tbody>\n",
       "</table>\n",
       "</div>"
      ],
      "text/plain": [
       "   index aircraft_code       booked_seats  num_seats      occupancy_rate  \\\n",
       "0      0           319  53.58318098720292        116 0.46192397402761143   \n",
       "1    547           321  88.80923076923077        170  0.5224072398190045   \n",
       "2   1197           733  80.25546218487395        130   0.617349709114415   \n",
       "3   1792           763 113.93729372937294        222  0.5132310528350132   \n",
       "4   2398           773  264.9258064516129        402   0.659019419033863   \n",
       "5   2708           CN1  6.004431314623338         12  0.5003692762186115   \n",
       "6   4062           CR2  21.48284690220174         50 0.42965693804403476   \n",
       "7   7968           SU9  56.81211267605634         97  0.5856918832583128   \n",
       "\n",
       "   Inc occupancy rate  \n",
       "0  0.5081163714303726  \n",
       "1   0.574647963800905  \n",
       "2  0.6790846800258565  \n",
       "3  0.5645541581185146  \n",
       "4  0.7249213609372492  \n",
       "5  0.5504062038404727  \n",
       "6  0.4726226318484382  \n",
       "7   0.644261071584144  "
      ]
     },
     "execution_count": 27,
     "metadata": {},
     "output_type": "execute_result"
    }
   ],
   "source": [
    "occupancy_rate['Inc occupancy rate'] = occupancy_rate['occupancy_rate'] + occupancy_rate['occupancy_rate']*0.1\n",
    "occupancy_rate.reset_index()"
   ]
  },
  {
   "cell_type": "code",
   "execution_count": 28,
   "id": "3ff553bc",
   "metadata": {},
   "outputs": [
    {
     "data": {
      "text/html": [
       "<div>\n",
       "<style scoped>\n",
       "    .dataframe tbody tr th:only-of-type {\n",
       "        vertical-align: middle;\n",
       "    }\n",
       "\n",
       "    .dataframe tbody tr th {\n",
       "        vertical-align: top;\n",
       "    }\n",
       "\n",
       "    .dataframe thead th {\n",
       "        text-align: right;\n",
       "    }\n",
       "</style>\n",
       "<table border=\"1\" class=\"dataframe\">\n",
       "  <thead>\n",
       "    <tr style=\"text-align: right;\">\n",
       "      <th></th>\n",
       "      <th>aircraft_code</th>\n",
       "      <th>booked_seats</th>\n",
       "      <th>num_seats</th>\n",
       "      <th>occupancy_rate</th>\n",
       "      <th>Inc occupancy rate</th>\n",
       "      <th>Inc Total Annual Turnover</th>\n",
       "    </tr>\n",
       "  </thead>\n",
       "  <tbody>\n",
       "    <tr>\n",
       "      <th>0</th>\n",
       "      <td>319</td>\n",
       "      <td>53.58318098720292</td>\n",
       "      <td>116</td>\n",
       "      <td>0.46192397402761143</td>\n",
       "      <td>0.5081163714303726</td>\n",
       "      <td>2976779410.0</td>\n",
       "    </tr>\n",
       "    <tr>\n",
       "      <th>1</th>\n",
       "      <td>321</td>\n",
       "      <td>88.80923076923077</td>\n",
       "      <td>170</td>\n",
       "      <td>0.5224072398190045</td>\n",
       "      <td>0.574647963800905</td>\n",
       "      <td>1801980510.0</td>\n",
       "    </tr>\n",
       "    <tr>\n",
       "      <th>2</th>\n",
       "      <td>733</td>\n",
       "      <td>80.25546218487395</td>\n",
       "      <td>130</td>\n",
       "      <td>0.617349709114415</td>\n",
       "      <td>0.6790846800258565</td>\n",
       "      <td>1569207310.0</td>\n",
       "    </tr>\n",
       "    <tr>\n",
       "      <th>3</th>\n",
       "      <td>763</td>\n",
       "      <td>113.93729372937294</td>\n",
       "      <td>222</td>\n",
       "      <td>0.5132310528350132</td>\n",
       "      <td>0.5645541581185146</td>\n",
       "      <td>4808404810.0</td>\n",
       "    </tr>\n",
       "    <tr>\n",
       "      <th>4</th>\n",
       "      <td>773</td>\n",
       "      <td>264.9258064516129</td>\n",
       "      <td>402</td>\n",
       "      <td>0.659019419033863</td>\n",
       "      <td>0.7249213609372492</td>\n",
       "      <td>3774326050.0</td>\n",
       "    </tr>\n",
       "    <tr>\n",
       "      <th>5</th>\n",
       "      <td>CN1</td>\n",
       "      <td>6.004431314623338</td>\n",
       "      <td>12</td>\n",
       "      <td>0.5003692762186115</td>\n",
       "      <td>0.5504062038404727</td>\n",
       "      <td>106011180.0</td>\n",
       "    </tr>\n",
       "    <tr>\n",
       "      <th>6</th>\n",
       "      <td>CR2</td>\n",
       "      <td>21.48284690220174</td>\n",
       "      <td>50</td>\n",
       "      <td>0.42965693804403476</td>\n",
       "      <td>0.4726226318484382</td>\n",
       "      <td>2181036550.0</td>\n",
       "    </tr>\n",
       "    <tr>\n",
       "      <th>7</th>\n",
       "      <td>SU9</td>\n",
       "      <td>56.81211267605634</td>\n",
       "      <td>97</td>\n",
       "      <td>0.5856918832583128</td>\n",
       "      <td>0.644261071584144</td>\n",
       "      <td>5625933170.0</td>\n",
       "    </tr>\n",
       "  </tbody>\n",
       "</table>\n",
       "</div>"
      ],
      "text/plain": [
       "  aircraft_code       booked_seats  num_seats      occupancy_rate  \\\n",
       "0           319  53.58318098720292        116 0.46192397402761143   \n",
       "1           321  88.80923076923077        170  0.5224072398190045   \n",
       "2           733  80.25546218487395        130   0.617349709114415   \n",
       "3           763 113.93729372937294        222  0.5132310528350132   \n",
       "4           773  264.9258064516129        402   0.659019419033863   \n",
       "5           CN1  6.004431314623338         12  0.5003692762186115   \n",
       "6           CR2  21.48284690220174         50 0.42965693804403476   \n",
       "7           SU9  56.81211267605634         97  0.5856918832583128   \n",
       "\n",
       "   Inc occupancy rate  Inc Total Annual Turnover  \n",
       "0  0.5081163714303726               2976779410.0  \n",
       "1   0.574647963800905               1801980510.0  \n",
       "2  0.6790846800258565               1569207310.0  \n",
       "3  0.5645541581185146               4808404810.0  \n",
       "4  0.7249213609372492               3774326050.0  \n",
       "5  0.5504062038404727                106011180.0  \n",
       "6  0.4726226318484382               2181036550.0  \n",
       "7   0.644261071584144               5625933170.0  "
      ]
     },
     "execution_count": 28,
     "metadata": {},
     "output_type": "execute_result"
    }
   ],
   "source": [
    "total_revenue = ticket_flights.merge(flights, on='flight_id').groupby('aircraft_code').agg(total_revenue=('amount', 'sum')).reset_index()\n",
    "merged_df = pd.merge(occupancy_rate, total_revenue, on='aircraft_code')\n",
    "merged_df['Inc Total Annual Turnover'] = (merged_df['total_revenue'] / merged_df['occupancy_rate']) * merged_df['Inc occupancy rate']\n",
    "merged_df['Inc Total Annual Turnover'] = round(merged_df['Inc Total Annual Turnover'], 0)\n",
    "merged_df.drop(columns=['total_revenue'])\n"
   ]
  },
  {
   "cell_type": "code",
   "execution_count": null,
   "id": "724d2c81",
   "metadata": {},
   "outputs": [],
   "source": []
  }
 ],
 "metadata": {
  "kernelspec": {
   "display_name": "Python 3 (ipykernel)",
   "language": "python",
   "name": "python3"
  },
  "language_info": {
   "codemirror_mode": {
    "name": "ipython",
    "version": 3
   },
   "file_extension": ".py",
   "mimetype": "text/x-python",
   "name": "python",
   "nbconvert_exporter": "python",
   "pygments_lexer": "ipython3",
   "version": "3.11.5"
  }
 },
 "nbformat": 4,
 "nbformat_minor": 5
}
